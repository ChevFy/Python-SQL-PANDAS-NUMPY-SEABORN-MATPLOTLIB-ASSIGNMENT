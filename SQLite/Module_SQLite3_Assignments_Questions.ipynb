{
 "cells": [
  {
   "cell_type": "markdown",
   "id": "964cf61d",
   "metadata": {},
   "source": [
    "# Module: SQLite3 Assignments\n",
    "## Lesson: SQLite3\n",
    "### Assignment 1: Creating and Connecting to a Database\n",
    "\n",
    "1. Write a Python function to create a new SQLite3 database named `test.db`.\n",
    "2. Write a Python function to create a table named `employees` with columns `id` (integer), `name` (text), `age` (integer), and `department` (text) in the `test.db` database.\n",
    "\n",
    "### Assignment 2: Inserting Data\n",
    "\n",
    "1. Write a Python function to insert a new employee into the `employees` table.\n",
    "2. Insert at least 5 different employees into the `employees` table.\n",
    "\n",
    "### Assignment 3: Querying Data\n",
    "\n",
    "1. Write a Python function to fetch and display all records from the `employees` table.\n",
    "2. Write a Python function to fetch and display all employees from a specific department.\n",
    "\n",
    "### Assignment 4: Updating Data\n",
    "\n",
    "1. Write a Python function to update the department of an employee based on their `id`.\n",
    "2. Update the department of at least 2 employees and display the updated records.\n",
    "\n",
    "### Assignment 5: Deleting Data\n",
    "\n",
    "1. Write a Python function to delete an employee from the `employees` table based on their `id`.\n",
    "2. Delete at least 1 employee and display the remaining records.\n",
    "\n",
    "### Assignment 6: Advanced Queries\n",
    "\n",
    "1. Write a Python function to fetch and display employees older than a certain age.\n",
    "2. Write a Python function to fetch and display employees whose names start with a specific letter.\n",
    "\n",
    "### Assignment 7: Handling Transactions\n",
    "\n",
    "1. Write a Python function to insert multiple employees into the `employees` table in a single transaction. Ensure that if any insertion fails, none of the insertions are committed.\n",
    "2. Write a Python function to update the age of multiple employees in a single transaction. Ensure that if any update fails, none of the updates are committed.\n",
    "\n",
    "### Assignment 8: Creating Relationships\n",
    "\n",
    "1. Create a new table named `departments` with columns `id` (integer) and `name` (text).\n",
    "2. Modify the `employees` table to include a foreign key referencing the `id` column in the `departments` table.\n",
    "3. Write a Python function to insert data into both the `departments` and `employees` tables, ensuring referential integrity.\n",
    "\n",
    "### Assignment 9: Indexing and Optimization\n",
    "\n",
    "1. Create an index on the `name` column of the `employees` table.\n",
    "2. Write a Python function to fetch and display all employees whose names start with a specific letter. Compare the performance with and without the index.\n",
    "\n",
    "### Assignment 10: Backing Up and Restoring Data\n",
    "\n",
    "1. Write a Python function to back up the `test.db` database to a file named `backup.db`.\n",
    "2. Write a Python function to restore the `test.db` database from the `backup.db` file."
   ]
  },
  {
   "cell_type": "code",
   "execution_count": 1,
   "metadata": {},
   "outputs": [
    {
     "name": "stdout",
     "output_type": "stream",
     "text": [
      "success\n"
     ]
    }
   ],
   "source": [
    "import sqlite3\n",
    "\n",
    "#Assignment 1.1\n",
    "def sql_connect():  \n",
    "    conn = sqlite3.connect('test.db')\n",
    "    conn.close()\n",
    "    print(\"success\")\n",
    "    \n",
    "sql_connect()"
   ]
  },
  {
   "cell_type": "code",
   "execution_count": 2,
   "id": "97185f09",
   "metadata": {},
   "outputs": [
    {
     "name": "stdout",
     "output_type": "stream",
     "text": [
      "Success\n"
     ]
    }
   ],
   "source": [
    "#Assignment 1.2\n",
    "def create_table():\n",
    "    conn = sqlite3.connect(\"test.db\")\n",
    "    cursor = conn.cursor()\n",
    "    cursor.execute('''\n",
    "    Create Table If NOT exists employees(\n",
    "                   id INTERGER Primary Key,\n",
    "                   name TEXT NOT NULL ,\n",
    "                   age INTEGER ,\n",
    "                   department TEXT \n",
    "                   )\n",
    "\n",
    "    ''')\n",
    "    conn.commit()\n",
    "    conn.close()\n",
    "    print(\"Success\")\n",
    "\n",
    "create_table()\n",
    "    "
   ]
  },
  {
   "cell_type": "code",
   "execution_count": 3,
   "id": "cc4d6268",
   "metadata": {},
   "outputs": [
    {
     "name": "stdout",
     "output_type": "stream",
     "text": [
      "Success\n",
      "Success\n",
      "Success\n",
      "Success\n",
      "Success\n"
     ]
    }
   ],
   "source": [
    "#Assignment 2\n",
    "def insert_employees( id : int , name : str , age : int , department : str):\n",
    "    conn = sqlite3.connect(\"test.db\")\n",
    "    cursor = conn.cursor()\n",
    "    cursor.execute(''' \n",
    "    INSERT INTO employees( id , name , age , department)\n",
    "                   values( ? ,? , ? , ?)\n",
    "\n",
    "    ''', (id , name ,age , department ))\n",
    "    conn.commit()\n",
    "    conn.close()\n",
    "    print(\"Success\")\n",
    "insert_employees(1, 'Eva', 19, 'Programer')\n",
    "insert_employees(2, 'Bob', 25, 'Engineering')\n",
    "insert_employees(3, 'Charlie', 28, 'Sales')\n",
    "insert_employees(4, 'David', 35, 'Marketing')\n",
    "insert_employees(5, 'Eve', 22, 'HR')\n"
   ]
  },
  {
   "cell_type": "code",
   "execution_count": 4,
   "id": "9ff17754",
   "metadata": {},
   "outputs": [
    {
     "name": "stdout",
     "output_type": "stream",
     "text": [
      "(1, 'Eva', 19, 'Programer')\n",
      "(2, 'Bob', 25, 'Engineering')\n",
      "(3, 'Charlie', 28, 'Sales')\n",
      "(4, 'David', 35, 'Marketing')\n",
      "(5, 'Eve', 22, 'HR')\n",
      "Sucess\n"
     ]
    }
   ],
   "source": [
    "#Assignment 3.1\n",
    "def display_all():\n",
    "    conn = sqlite3.connect(\"test.db\")\n",
    "    cursor = conn.cursor()\n",
    "    cursor.execute(''' \n",
    "    SELECT * from employees\n",
    "    ''')\n",
    "    rows = cursor.fetchall()\n",
    "    for row in rows :\n",
    "        print(row)\n",
    "    conn.close()\n",
    "    print(\"Sucess\")\n",
    "\n",
    "display_all()"
   ]
  },
  {
   "cell_type": "code",
   "execution_count": 5,
   "id": "f1497177",
   "metadata": {},
   "outputs": [
    {
     "name": "stdout",
     "output_type": "stream",
     "text": [
      "(3, 'Charlie', 28, 'Sales')\n",
      "Sucess\n"
     ]
    }
   ],
   "source": [
    "#Assignment 3.2\n",
    "def display_select(department_name : str):\n",
    "    conn = sqlite3.connect(\"test.db\")\n",
    "    cursor = conn.cursor()\n",
    "    cursor.execute(''' \n",
    "    SELECT * from employees where department = ?\n",
    "    ''' , (department_name , ))\n",
    "    rows = cursor.fetchall()\n",
    "    for row in rows :\n",
    "        print(row)\n",
    "    conn.close()\n",
    "    print(\"Sucess\")\n",
    "\n",
    "def display_select_by_id(id : int):\n",
    "    conn = sqlite3.connect(\"test.db\")\n",
    "    cursor = conn.cursor()\n",
    "    cursor.execute(''' \n",
    "    SELECT * from employees where id = ?\n",
    "    ''' , (id , ))\n",
    "    rows = cursor.fetchall()\n",
    "    for row in rows :\n",
    "        print(row)\n",
    "    conn.close()\n",
    "    print(\"Sucess\")\n",
    "\n",
    "\n",
    "display_select(\"Sales\")"
   ]
  },
  {
   "cell_type": "code",
   "execution_count": 6,
   "id": "848d6409",
   "metadata": {},
   "outputs": [
    {
     "name": "stdout",
     "output_type": "stream",
     "text": [
      "Sucess\n",
      "Sucess\n",
      "(1, 'Eva', 25, 'Programer')\n",
      "Sucess\n"
     ]
    }
   ],
   "source": [
    "#Assignment 4\n",
    "def update_employee_by_id(id , new_age):\n",
    "    conn = sqlite3.connect(\"test.db\")\n",
    "    cursor = conn.cursor()\n",
    "    cursor.execute( '''\n",
    "                    UPDATE employees \n",
    "                    Set age = ?\n",
    "                    Where id = ?\n",
    "                   ''' , ( new_age , id ,))\n",
    "    conn.commit()\n",
    "    conn.close()\n",
    "    print(\"Sucess\")\n",
    "    \n",
    "update_employee_by_id( 3 , 40)\n",
    "update_employee_by_id( 1 , 25)\n",
    "\n",
    "display_select_by_id(1)"
   ]
  },
  {
   "cell_type": "code",
   "execution_count": 7,
   "id": "882c23af",
   "metadata": {},
   "outputs": [
    {
     "name": "stdout",
     "output_type": "stream",
     "text": [
      "sucess\n",
      "(1, 'Eva', 25, 'Programer')\n",
      "(3, 'Charlie', 40, 'Sales')\n",
      "(4, 'David', 35, 'Marketing')\n",
      "(5, 'Eve', 22, 'HR')\n",
      "Sucess\n"
     ]
    }
   ],
   "source": [
    "#Assignment 5\n",
    "def delete_employee_by_id(id):\n",
    "    conn = sqlite3.connect(\"test.db\")\n",
    "    cursor = conn.cursor()\n",
    "    cursor.execute( ''' \n",
    "    DELETE from employees where id = ?\n",
    "    ''', (id ,))\n",
    "    conn.commit()\n",
    "    conn.close()\n",
    "    print(\"sucess\")\n",
    "\n",
    "delete_employee_by_id(2)\n",
    "display_all()"
   ]
  },
  {
   "cell_type": "code",
   "execution_count": 8,
   "id": "b6c303e9",
   "metadata": {},
   "outputs": [
    {
     "name": "stdout",
     "output_type": "stream",
     "text": [
      "(3, 'Charlie', 40, 'Sales')\n",
      "(4, 'David', 35, 'Marketing')\n",
      "sucess\n"
     ]
    }
   ],
   "source": [
    "#Assignment 6.1\n",
    "def display_employee_with_age_condition(age) :\n",
    "    conn = sqlite3.connect(\"test.db\")\n",
    "    cursor = conn.cursor()\n",
    "    cursor.execute( ''' \n",
    "    SELECT * FROM employees where age > ? \n",
    "    ''', (age ,))\n",
    "    conn.commit()\n",
    "\n",
    "    rows = cursor.fetchall()\n",
    "    for row in rows :\n",
    "        print(row)\n",
    "    \n",
    "    conn.close()\n",
    "    print(\"sucess\")\n",
    "\n",
    "display_employee_with_age_condition(30)"
   ]
  },
  {
   "cell_type": "code",
   "execution_count": 9,
   "id": "c639a748",
   "metadata": {},
   "outputs": [
    {
     "name": "stdout",
     "output_type": "stream",
     "text": [
      "(1, 'Eva', 25, 'Programer')\n",
      "(5, 'Eve', 22, 'HR')\n",
      "sucess\n"
     ]
    }
   ],
   "source": [
    "#Assignment 6.2\n",
    "def display_employee_with_alphabet(alphabet) :\n",
    "    conn = sqlite3.connect(\"test.db\")\n",
    "    cursor = conn.cursor()\n",
    "    cursor.execute('SELECT * FROM employees WHERE name LIKE ?', (alphabet + '%',))\n",
    "\n",
    "    conn.commit()\n",
    "\n",
    "    rows = cursor.fetchall()\n",
    "    for row in rows :\n",
    "        print(row)\n",
    "    \n",
    "    conn.close()\n",
    "    print(\"sucess\")\n",
    "\n",
    "display_employee_with_alphabet('E')"
   ]
  },
  {
   "cell_type": "code",
   "execution_count": 10,
   "id": "ba043a22",
   "metadata": {},
   "outputs": [
    {
     "name": "stdout",
     "output_type": "stream",
     "text": [
      "Error occurred, transaction rolled back.\n",
      "Incorrect number of bindings supplied. The current statement uses 2, and there are 4 supplied.\n"
     ]
    }
   ],
   "source": [
    "#Assignment 7.1\n",
    "\n",
    "def insert_multiple_employee(employees : list):\n",
    "    conn = sqlite3.connect(\"test.db\")\n",
    "    cursor = conn.cursor()\n",
    "\n",
    "    try:\n",
    "        cursor.executemany('''\n",
    "            UPDATE employees\n",
    "            Set age = ?\n",
    "            where id = ?\n",
    "        ''', employees)\n",
    "        conn.commit()\n",
    "        print(\"All employees inserted successfully.\")\n",
    "    except Exception as e:\n",
    "        conn.rollback()\n",
    "        print(\"Error occurred, transaction rolled back.\")\n",
    "        print(e)\n",
    "    finally:\n",
    "        conn.close()\n",
    "\n",
    "employees = [\n",
    "    (6, 'Frank', 40, 'Finance'),\n",
    "    (7, 'Grace', 29, 'Engineering'),\n",
    "    (8, 'Hannah', 35, 'Marketing'),\n",
    "    (9, 'Ivan', 38, 'Sales'),\n",
    "    (10, 'Jack', 45, 'HR') \n",
    "]\n",
    "\n",
    "insert_multiple_employee(employees)\n"
   ]
  },
  {
   "cell_type": "code",
   "execution_count": 11,
   "id": "c8c5585e",
   "metadata": {},
   "outputs": [
    {
     "name": "stdout",
     "output_type": "stream",
     "text": [
      "(1, 'Eva', 25, 'Programer')\n",
      "(3, 'Charlie', 40, 'Sales')\n",
      "(4, 'David', 35, 'Marketing')\n",
      "(5, 'Eve', 22, 'HR')\n",
      "Sucess\n"
     ]
    }
   ],
   "source": [
    "display_all()"
   ]
  },
  {
   "cell_type": "code",
   "execution_count": 12,
   "id": "541b06c5",
   "metadata": {},
   "outputs": [
    {
     "name": "stdout",
     "output_type": "stream",
     "text": [
      "All employees update successfully.\n"
     ]
    }
   ],
   "source": [
    "#Assignment 7.2\n",
    "\n",
    "def update_multiple_age( ages ):\n",
    "    conn = sqlite3.connect(\"test.db\")\n",
    "    cursor = conn.cursor()\n",
    "\n",
    "    try:\n",
    "        cursor.executemany('''\n",
    "            UPDATE employees\n",
    "            Set age = ?\n",
    "            where id = ?\n",
    "        ''', ages)\n",
    "        conn.commit()\n",
    "        print(\"All employees update successfully.\")\n",
    "    except Exception as e:\n",
    "        conn.rollback()\n",
    "        print(\"Error occurred, transaction rolled back.\")\n",
    "        print(e)\n",
    "    finally:\n",
    "        conn.close()\n",
    "\n",
    "updates = [\n",
    "    (32, 1),\n",
    "    (26, 2),\n",
    "    (33, 3),\n",
    "    (41, 4), \n",
    "    (23, 5)\n",
    "]\n",
    "\n",
    "update_multiple_age(updates)"
   ]
  },
  {
   "cell_type": "code",
   "execution_count": 13,
   "id": "a9db1373",
   "metadata": {},
   "outputs": [
    {
     "name": "stdout",
     "output_type": "stream",
     "text": [
      "(1, 'Eva', 32, 'Programer')\n",
      "(3, 'Charlie', 33, 'Sales')\n",
      "(4, 'David', 41, 'Marketing')\n",
      "(5, 'Eve', 23, 'HR')\n",
      "Sucess\n"
     ]
    }
   ],
   "source": [
    "display_all()"
   ]
  },
  {
   "cell_type": "code",
   "execution_count": 14,
   "id": "bd6c6585",
   "metadata": {},
   "outputs": [
    {
     "name": "stdout",
     "output_type": "stream",
     "text": [
      "success\n"
     ]
    }
   ],
   "source": [
    "#Assignment 8.1\n",
    "def create_departments_table():\n",
    "    conn = sqlite3.connect('test.db')\n",
    "    cursor = conn.cursor()\n",
    "    cursor.execute('''\n",
    "        CREATE TABLE IF NOT EXISTS departments (\n",
    "            id INTEGER PRIMARY KEY,\n",
    "            name TEXT NOT NULL\n",
    "        )\n",
    "    ''')\n",
    "    conn.commit()\n",
    "    conn.close()\n",
    "    print(\"success\")\n",
    "\n",
    "create_departments_table()"
   ]
  },
  {
   "cell_type": "code",
   "execution_count": null,
   "id": "e3290a7d",
   "metadata": {},
   "outputs": [
    {
     "name": "stdout",
     "output_type": "stream",
     "text": [
      "success\n"
     ]
    }
   ],
   "source": [
    "#Assignment 8.2\n",
    "def add_foreign_key():\n",
    "    conn = sqlite3.connect('test.db')\n",
    "    cursor = conn.cursor()\n",
    "    cursor.executescript( '''\n",
    "    PRAGMA foreign_keys=off;\n",
    "    BEGIN TRANSACTION;\n",
    "    CREATE TABLE new_employees (\n",
    "        id INTEGER PRIMARY KEY,\n",
    "        name TEXT NOT NULL ,\n",
    "        age INTEGER ,\n",
    "        department TEXT ,\n",
    "        department_id INTEGER ,\n",
    "        FOREIGN KEY(department_id) REFERENCES departments(id)                           \n",
    "    );\n",
    "    INSERT INTO new_employees (id , name , age , department)\n",
    "    SELECT id , name  , age , department FROM employees;\n",
    "    DROP TABLE employees;\n",
    "    \n",
    "    ALTER TABLE new_employees RENAME to employees;\n",
    "\n",
    "    COMMIT;\n",
    "    PRAGMA foreign_keys=on;\n",
    "    ''')\n",
    "    conn.commit()\n",
    "    conn.close()\n",
    "    print('success')\n",
    "\n",
    "add_foreign_key()"
   ]
  },
  {
   "cell_type": "code",
   "execution_count": null,
   "id": "de495e78",
   "metadata": {},
   "outputs": [
    {
     "name": "stdout",
     "output_type": "stream",
     "text": [
      "Success\n"
     ]
    }
   ],
   "source": [
    "#Assignment 8.3\n",
    "def insert_department_employee_table( department_id , department_name ,id , name , age , department):\n",
    "    conn = sqlite3.connect('test.db')\n",
    "    cursor = conn.cursor()\n",
    "    try:\n",
    "        cursor.execute(''' \n",
    "        INSERT INTO departments( id , name)\n",
    "        VALUES (? , ?)\n",
    "        ''' , (department_id , department_name))\n",
    "        cursor.execute(''' \n",
    "        INSERT INTO employees ( id , name , age , department )\n",
    "        VALUES (? , ? , ? , ?)\n",
    "        ''' , (id , name , age , department) )\n",
    "        conn.commit()\n",
    "        print(\"Success\")\n",
    "    except Exception as e:\n",
    "        conn.rollback()\n",
    "        print(e)\n",
    "    pass\n",
    "\n",
    "insert_department_employee_table(1 , 'Seller' ,  101 , 'Nick' , 30 , 'Seller')\n",
    "\n",
    "\n"
   ]
  },
  {
   "cell_type": "code",
   "execution_count": 23,
   "id": "c78b346b",
   "metadata": {},
   "outputs": [
    {
     "name": "stdout",
     "output_type": "stream",
     "text": [
      "success\n"
     ]
    }
   ],
   "source": [
    "#Assignment 9.1\n",
    "def create_index():\n",
    "    conn = sqlite3.connect('test.db')\n",
    "    cursor = conn.cursor()\n",
    "    cursor.execute(''' \n",
    "    CREATE INDEX idx_name ON employees(name)\n",
    "    ''')\n",
    "    conn.commit()\n",
    "    conn.close()\n",
    "    print(\"success\")\n",
    "\n",
    "create_index()"
   ]
  },
  {
   "cell_type": "code",
   "execution_count": 30,
   "id": "7c12e773",
   "metadata": {},
   "outputs": [
    {
     "name": "stdout",
     "output_type": "stream",
     "text": [
      "(101, 'Nick', 30, 'Seller', None)\n",
      "success\n"
     ]
    }
   ],
   "source": [
    "def display_employees_performance(letter):\n",
    "    conn = sqlite3.connect('test.db')\n",
    "    cursor = conn.cursor()\n",
    "    cursor.execute(\"SELECT * FROM employees WHERE name Like ?\" , (letter + '%',))\n",
    "    rows = cursor.fetchall()\n",
    "    for row in rows:\n",
    "        print(row)\n",
    "\n",
    "    conn.close()\n",
    "    print('success')\n",
    "\n",
    "\n",
    "display_employees_performance('N')\n",
    "    "
   ]
  },
  {
   "cell_type": "code",
   "execution_count": 31,
   "id": "c524e30a",
   "metadata": {},
   "outputs": [
    {
     "name": "stdout",
     "output_type": "stream",
     "text": [
      "success\n"
     ]
    }
   ],
   "source": [
    "#assigment 10\n",
    "import shutil\n",
    "\n",
    "def backup():\n",
    "    shutil.copy('test.db' , 'backup.db')\n",
    "    print('success')\n",
    "\n",
    "backup()"
   ]
  },
  {
   "cell_type": "code",
   "execution_count": 32,
   "id": "3be09ddf",
   "metadata": {},
   "outputs": [
    {
     "name": "stdout",
     "output_type": "stream",
     "text": [
      "success\n"
     ]
    }
   ],
   "source": [
    "def restore():\n",
    "    shutil.copy('backup.db','test.db')\n",
    "    print(\"success\")\n",
    "\n",
    "restore()"
   ]
  }
 ],
 "metadata": {
  "kernelspec": {
   "display_name": "Python 3",
   "language": "python",
   "name": "python3"
  },
  "language_info": {
   "codemirror_mode": {
    "name": "ipython",
    "version": 3
   },
   "file_extension": ".py",
   "mimetype": "text/x-python",
   "name": "python",
   "nbconvert_exporter": "python",
   "pygments_lexer": "ipython3",
   "version": "3.13.0"
  }
 },
 "nbformat": 4,
 "nbformat_minor": 5
}
