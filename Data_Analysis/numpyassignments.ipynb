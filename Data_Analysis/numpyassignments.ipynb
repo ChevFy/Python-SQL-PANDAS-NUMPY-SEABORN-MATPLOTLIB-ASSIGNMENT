{
 "cells": [
  {
   "cell_type": "markdown",
   "metadata": {},
   "source": [
    "# Module: NumPy Assignments\n",
    "## Lesson: NumPy\n",
    "### Assignment 1: Array Creation and Manipulation\n",
    "\n",
    "1. Create a NumPy array of shape (5, 5) filled with random integers between 1 and 20. Replace all the elements in the third column with 1.\n",
    "2. Create a NumPy array of shape (4, 4) with values from 1 to 16. Replace the diagonal elements with 0.\n",
    "\n",
    "### Assignment 2: Array Indexing and Slicing\n",
    "\n",
    "1. Create a NumPy array of shape (6, 6) with values from 1 to 36. Extract the sub-array consisting of the 3rd to 5th rows and 2nd to 4th columns.\n",
    "2. Create a NumPy array of shape (5, 5) with random integers. Extract the elements on the border.\n",
    "\n",
    "### Assignment 3: Array Operations\n",
    "\n",
    "1. Create two NumPy arrays of shape (3, 4) filled with random integers. Perform element-wise addition, subtraction, multiplication, and division.\n",
    "2. Create a NumPy array of shape (4, 4) with values from 1 to 16. Compute the row-wise and column-wise sum.\n",
    "\n",
    "### Assignment 4: Statistical Operations\n",
    "\n",
    "1. Create a NumPy array of shape (5, 5) filled with random integers. Compute the mean, median, standard deviation, and variance of the array.\n",
    "2. Create a NumPy array of shape (3, 3) with values from 1 to 9. Normalize the array (i.e., scale the values to have a mean of 0 and a standard deviation of 1).\n",
    "\n",
    "### Assignment 5: Broadcasting\n",
    "\n",
    "1. Create a NumPy array of shape (3, 3) filled with random integers. Add a 1D array of shape (3,) to each row of the 2D array using broadcasting.\n",
    "2. Create a NumPy array of shape (4, 4) filled with random integers. Subtract a 1D array of shape (4,) from each column of the 2D array using broadcasting.\n",
    "\n",
    "### Assignment 6: Linear Algebra\n",
    "\n",
    "1. Create a NumPy array of shape (3, 3) representing a matrix. Compute its determinant, inverse, and eigenvalues.\n",
    "2. Create two NumPy arrays of shape (2, 3) and (3, 2). Perform matrix multiplication on these arrays.\n",
    "\n",
    "### Assignment 7: Advanced Array Manipulation\n",
    "\n",
    "1. Create a NumPy array of shape (3, 3) with values from 1 to 9. Reshape the array to shape (1, 9) and then to shape (9, 1).\n",
    "2. Create a NumPy array of shape (5, 5) filled with random integers. Flatten the array and then reshape it back to (5, 5).\n",
    "\n",
    "### Assignment 8: Fancy Indexing and Boolean Indexing\n",
    "\n",
    "1. Create a NumPy array of shape (5, 5) filled with random integers. Use fancy indexing to extract the elements at the corners of the array.\n",
    "2. Create a NumPy array of shape (4, 4) filled with random integers. Use boolean indexing to set all elements greater than 10 to 10.\n",
    "\n",
    "### Assignment 9: Structured Arrays\n",
    "\n",
    "1. Create a structured array with fields 'name' (string), 'age' (integer), and 'weight' (float). Add some data and sort the array by age.\n",
    "2. Create a structured array with fields 'x' and 'y' (both integers). Add some data and compute the Euclidean distance between each pair of points.\n",
    "\n",
    "### Assignment 10: Masked Arrays\n",
    "\n",
    "1. Create a masked array of shape (4, 4) with random integers and mask the elements greater than 10. Compute the sum of the unmasked elements.\n",
    "2. Create a masked array of shape (3, 3) with random integers and mask the diagonal elements. Replace the masked elements with the mean of the unmasked elements."
   ]
  },
  {
   "cell_type": "code",
   "execution_count": 1,
   "metadata": {},
   "outputs": [
    {
     "data": {
      "text/plain": [
       "array([[ 4,  6, 11, 10,  6],\n",
       "       [ 7,  9, 13, 19,  8],\n",
       "       [ 2,  6, 17,  9, 20],\n",
       "       [ 2,  6,  8, 20,  4],\n",
       "       [11, 11, 10, 14,  9]], dtype=int32)"
      ]
     },
     "execution_count": 1,
     "metadata": {},
     "output_type": "execute_result"
    }
   ],
   "source": [
    "import numpy as np\n",
    "\n",
    "#Assignment 1.1\n",
    "a = np.random.randint( 1 , 21, size=(5, 5))\n",
    "a"
   ]
  },
  {
   "cell_type": "code",
   "execution_count": 5,
   "id": "7fc1a054",
   "metadata": {},
   "outputs": [
    {
     "data": {
      "text/plain": [
       "array([[ 0,  9, 14,  9],\n",
       "       [ 9,  0, 14,  7],\n",
       "       [ 8,  5,  0,  4],\n",
       "       [15, 11,  9,  0]], dtype=int32)"
      ]
     },
     "execution_count": 5,
     "metadata": {},
     "output_type": "execute_result"
    }
   ],
   "source": [
    "#Assignment 1.2\n",
    "b = np.random.randint( 1 , 17 , size = (4,4))\n",
    "np.fill_diagonal(b , 0)\n",
    "b"
   ]
  },
  {
   "cell_type": "code",
   "execution_count": 9,
   "id": "5c4620cb",
   "metadata": {},
   "outputs": [
    {
     "data": {
      "text/plain": [
       "array([[ 5, 13,  8,  7,  2,  9],\n",
       "       [ 7, 14, 14,  1,  6,  8],\n",
       "       [13,  6,  1,  6, 14, 11],\n",
       "       [11,  6,  8,  5, 10, 11],\n",
       "       [ 3,  5, 14, 10, 10,  2],\n",
       "       [14, 12,  8,  8,  5, 14]], dtype=int32)"
      ]
     },
     "execution_count": 9,
     "metadata": {},
     "output_type": "execute_result"
    }
   ],
   "source": [
    "#Assignment 2.1\n",
    "c = np.random.randint( 1  , 17 , size=(6,6))\n",
    "c"
   ]
  },
  {
   "cell_type": "code",
   "execution_count": 20,
   "id": "fb5a9eee",
   "metadata": {},
   "outputs": [
    {
     "data": {
      "text/plain": [
       "array([[ 6,  1,  6, 14],\n",
       "       [ 6,  8,  5, 10],\n",
       "       [ 5, 14, 10, 10]], dtype=int32)"
      ]
     },
     "execution_count": 20,
     "metadata": {},
     "output_type": "execute_result"
    }
   ],
   "source": [
    "c[2:5 , 1:5]"
   ]
  },
  {
   "cell_type": "code",
   "execution_count": 33,
   "id": "05367dc1",
   "metadata": {},
   "outputs": [
    {
     "data": {
      "text/plain": [
       "array([[84,  3, 13, 40, 59],\n",
       "       [46, 14, 12, 81,  1],\n",
       "       [67, 56, 19,  9, 55],\n",
       "       [96, 98, 12, 40, 29],\n",
       "       [15, 92, 69, 63, 50]], dtype=int32)"
      ]
     },
     "execution_count": 33,
     "metadata": {},
     "output_type": "execute_result"
    }
   ],
   "source": [
    "d = np.random.randint( 100 ,size = (5,5))\n",
    "d"
   ]
  },
  {
   "cell_type": "code",
   "execution_count": 51,
   "id": "4f035de5",
   "metadata": {},
   "outputs": [
    {
     "data": {
      "text/plain": [
       "array([[66, 87, 90, 60, 95],\n",
       "       [13, 31, 66,  9, 34],\n",
       "       [37,  5, 95,  0, 94],\n",
       "       [67, 91, 95, 84, 16],\n",
       "       [78, 33, 93, 27, 18]], dtype=int32)"
      ]
     },
     "execution_count": 51,
     "metadata": {},
     "output_type": "execute_result"
    }
   ],
   "source": [
    "#Assignment 2.2\n",
    "\n",
    "d = np.random.randint(0, 100, (5, 5))\n",
    "d"
   ]
  },
  {
   "cell_type": "code",
   "execution_count": 58,
   "id": "56c963e6",
   "metadata": {},
   "outputs": [
    {
     "data": {
      "text/plain": [
       "array([66, 13, 37, 67, 78, 95, 34, 94, 16, 18, 66, 87, 90, 60, 95, 78, 33,\n",
       "       93, 27, 18], dtype=int32)"
      ]
     },
     "execution_count": 58,
     "metadata": {},
     "output_type": "execute_result"
    }
   ],
   "source": [
    "d_new = np.concatenate((d[ : , 0 ] , d[: , -1] , d[ 0 , :] , d[ -1 , :]) )\n",
    "d_new"
   ]
  },
  {
   "cell_type": "code",
   "execution_count": 60,
   "id": "950650fc",
   "metadata": {},
   "outputs": [
    {
     "data": {
      "text/plain": [
       "array([[76, 16, 25, 65],\n",
       "       [24, 27, 63, 99],\n",
       "       [46, 29, 11, 13]], dtype=int32)"
      ]
     },
     "execution_count": 60,
     "metadata": {},
     "output_type": "execute_result"
    }
   ],
   "source": [
    "#Assignment 3.1\n",
    "e1 = np.random.randint(100 , size=(3,4))\n",
    "e1\n"
   ]
  },
  {
   "cell_type": "code",
   "execution_count": 61,
   "id": "63d707e3",
   "metadata": {},
   "outputs": [
    {
     "data": {
      "text/plain": [
       "array([[24, 54, 44, 57],\n",
       "       [59, 27, 74, 38],\n",
       "       [16,  5, 57, 68]], dtype=int32)"
      ]
     },
     "execution_count": 61,
     "metadata": {},
     "output_type": "execute_result"
    }
   ],
   "source": [
    "e2 = np.random.randint(100 , size=(3,4))\n",
    "e2\n"
   ]
  },
  {
   "cell_type": "code",
   "execution_count": 62,
   "id": "69cdcb64",
   "metadata": {},
   "outputs": [
    {
     "name": "stdout",
     "output_type": "stream",
     "text": [
      "[[100  70  69 122]\n",
      " [ 83  54 137 137]\n",
      " [ 62  34  68  81]]\n"
     ]
    }
   ],
   "source": [
    "print(e1+e2)"
   ]
  },
  {
   "cell_type": "code",
   "execution_count": 63,
   "id": "fc6fa480",
   "metadata": {},
   "outputs": [
    {
     "name": "stdout",
     "output_type": "stream",
     "text": [
      "[[ 52 -38 -19   8]\n",
      " [-35   0 -11  61]\n",
      " [ 30  24 -46 -55]]\n"
     ]
    }
   ],
   "source": [
    "print(e1-e2)"
   ]
  },
  {
   "cell_type": "code",
   "execution_count": 64,
   "id": "8e9cce0d",
   "metadata": {},
   "outputs": [
    {
     "name": "stdout",
     "output_type": "stream",
     "text": [
      "[[1824  864 1100 3705]\n",
      " [1416  729 4662 3762]\n",
      " [ 736  145  627  884]]\n"
     ]
    }
   ],
   "source": [
    "print(e1*e2)"
   ]
  },
  {
   "cell_type": "code",
   "execution_count": 65,
   "id": "ae24b01c",
   "metadata": {},
   "outputs": [
    {
     "name": "stdout",
     "output_type": "stream",
     "text": [
      "[[3.16666667 0.2962963  0.56818182 1.14035088]\n",
      " [0.40677966 1.         0.85135135 2.60526316]\n",
      " [2.875      5.8        0.19298246 0.19117647]]\n"
     ]
    }
   ],
   "source": [
    "print(e1/e2)"
   ]
  },
  {
   "cell_type": "code",
   "execution_count": 67,
   "id": "b5743b5b",
   "metadata": {},
   "outputs": [
    {
     "data": {
      "text/plain": [
       "array([[ 6,  4, 14,  9],\n",
       "       [14,  8, 13,  6],\n",
       "       [ 9,  6,  6,  5],\n",
       "       [ 2,  7, 10, 11]], dtype=int32)"
      ]
     },
     "execution_count": 67,
     "metadata": {},
     "output_type": "execute_result"
    }
   ],
   "source": [
    "#Assignment 3.2\n",
    "f = np.random.randint( 1 , 17 , size=(4,4))\n",
    "f"
   ]
  },
  {
   "cell_type": "code",
   "execution_count": 85,
   "id": "a148f167",
   "metadata": {},
   "outputs": [
    {
     "data": {
      "text/plain": [
       "array([33, 41, 26, 30])"
      ]
     },
     "execution_count": 85,
     "metadata": {},
     "output_type": "execute_result"
    }
   ],
   "source": [
    "np.sum(f , axis=1)\n"
   ]
  },
  {
   "cell_type": "code",
   "execution_count": 70,
   "id": "2534562d",
   "metadata": {},
   "outputs": [
    {
     "data": {
      "text/plain": [
       "array([31, 25, 43, 31])"
      ]
     },
     "execution_count": 70,
     "metadata": {},
     "output_type": "execute_result"
    }
   ],
   "source": [
    "np.sum(f , axis =0 )"
   ]
  },
  {
   "cell_type": "code",
   "execution_count": 88,
   "id": "2866ae57",
   "metadata": {},
   "outputs": [
    {
     "name": "stdout",
     "output_type": "stream",
     "text": [
      "[[99 92 24 13  2]\n",
      " [28 36 36 38 42]\n",
      " [44 73 24 15  2]\n",
      " [41 61 90 74 84]\n",
      " [ 2 92 11 24 25]]\n",
      "mean = 42.88\n",
      "median = 36.0\n",
      "std = 30.68\n",
      "vary = 940.9856\n"
     ]
    }
   ],
   "source": [
    "#assignment 4.1\n",
    "g = np.random.randint(100 , size=(5,5))\n",
    "print(g)\n",
    "print( 'mean =', np.mean(g))\n",
    "print(f'median = {np.median(g)}' )\n",
    "print(f'std = {np.std(g):.2f}' )\n",
    "print(f\"vary = {np.var(g)}\")\n"
   ]
  },
  {
   "cell_type": "code",
   "execution_count": 102,
   "id": "793de882",
   "metadata": {},
   "outputs": [
    {
     "name": "stdout",
     "output_type": "stream",
     "text": [
      "[[1 2 3]\n",
      " [4 5 6]\n",
      " [7 8 9]]\n",
      "mean = 5.00\n",
      "std = 2.58\n",
      "[[-1.54919334 -1.161895   -0.77459667]\n",
      " [-0.38729833  0.          0.38729833]\n",
      " [ 0.77459667  1.161895    1.54919334]]\n",
      "mean = 0.00\n",
      "std = 1.00\n"
     ]
    }
   ],
   "source": [
    "#assignment 4.2\n",
    "arr = np.arange(1, 10).reshape((3, 3))\n",
    "print(arr)\n",
    "print( f'mean = {np.mean(arr):.2f}')\n",
    "print(f'std = {np.std(arr):.2f}' )\n",
    "\n",
    "nomalize = (arr - np.mean(arr))/np.std(arr)\n",
    "print(nomalize)\n",
    "print( f'mean = {np.mean(nomalize):.2f}')\n",
    "print(f'std = {np.std(nomalize):.2f}' )\n",
    "\n",
    "\n"
   ]
  },
  {
   "cell_type": "code",
   "execution_count": 104,
   "id": "6f1b9b39",
   "metadata": {},
   "outputs": [
    {
     "name": "stdout",
     "output_type": "stream",
     "text": [
      "[[25 62 97]\n",
      " [94 48 30]\n",
      " [14 95 42]]\n",
      "[ 5 27 31]\n",
      "[[ 30  89 128]\n",
      " [ 99  75  61]\n",
      " [ 19 122  73]]\n"
     ]
    }
   ],
   "source": [
    "#assignment 5.1\n",
    "arr = np.random.randint( 100 , size=(3,3))\n",
    "row = np.random.randint( 100 , size=(3 , ))\n",
    "print(arr)\n",
    "print(row)\n",
    "\n",
    "print(arr+row)"
   ]
  },
  {
   "cell_type": "code",
   "execution_count": 128,
   "id": "656a723c",
   "metadata": {},
   "outputs": [
    {
     "name": "stdout",
     "output_type": "stream",
     "text": [
      "[[56 92 27 15]\n",
      " [84 97 31 25]\n",
      " [ 2 23 59  2]\n",
      " [57 44 54 91]]\n",
      "[26 40 86  2]\n",
      "[[ 30  66   1 -11]\n",
      " [ 44  57  -9 -15]\n",
      " [-84 -63 -27 -84]\n",
      " [ 55  42  52  89]]\n"
     ]
    }
   ],
   "source": [
    "#assignment 5.2\n",
    "arr = np.random.randint( 100 , size=(4,4))\n",
    "cols = np.random.randint( 100 , size=(4 , ))\n",
    "print(arr)\n",
    "print(cols)\n",
    "print( arr - cols.reshape(( 4 , 1)) )\n",
    "\n"
   ]
  },
  {
   "cell_type": "code",
   "execution_count": 149,
   "id": "ded4b958",
   "metadata": {},
   "outputs": [
    {
     "name": "stdout",
     "output_type": "stream",
     "text": [
      "[[3 6 7]\n",
      " [3 5 8]\n",
      " [3 9 8]]\n",
      "detenminent = -12.0\n",
      "[[ 2.66666667e+00 -1.25000000e+00 -1.08333333e+00]\n",
      " [ 7.40148683e-17 -2.50000000e-01  2.50000000e-01]\n",
      " [-1.00000000e+00  7.50000000e-01  2.50000000e-01]]\n",
      "[17.76342433  0.32367647 -2.0871008 ]\n"
     ]
    }
   ],
   "source": [
    "#assignment 6.1\n",
    "arr = np.random.randint(1 , 10 , size=(3,3))\n",
    "print(arr)\n",
    "arr_det = np.linalg.det(arr)\n",
    "arr_inv = np.linalg.inv(arr)\n",
    "arr_eigen = np.linalg.eigvals(arr)\n",
    "print(f'detenminent = {arr_det}')\n",
    "print(arr_inv)\n",
    "print(arr_eigen)\n",
    "\n"
   ]
  },
  {
   "cell_type": "code",
   "execution_count": 154,
   "id": "2dda41ee",
   "metadata": {},
   "outputs": [
    {
     "name": "stdout",
     "output_type": "stream",
     "text": [
      "[[3 8 6]\n",
      " [3 4 3]]\n",
      "[[4 9]\n",
      " [7 6]\n",
      " [8 9]]\n",
      "[[116 129]\n",
      " [ 64  78]]\n"
     ]
    }
   ],
   "source": [
    "#assignemnt 6.2\n",
    "arr_1 = np.random.randint( 1, 10 , size = (2,3))\n",
    "arr_2 = np.random.randint( 1, 10 , size = (3,2))\n",
    "print(arr_1)\n",
    "print(arr_2)\n",
    "arr_mul = np.matmul(arr_1 ,arr_2)\n",
    "print(arr_mul)"
   ]
  },
  {
   "cell_type": "code",
   "execution_count": 156,
   "id": "371bdbf6",
   "metadata": {},
   "outputs": [
    {
     "name": "stdout",
     "output_type": "stream",
     "text": [
      "[[1 2 3]\n",
      " [4 5 6]\n",
      " [7 8 9]]\n",
      "[[1 2 3 4 5 6 7 8 9]]\n",
      "[[1]\n",
      " [2]\n",
      " [3]\n",
      " [4]\n",
      " [5]\n",
      " [6]\n",
      " [7]\n",
      " [8]\n",
      " [9]]\n"
     ]
    }
   ],
   "source": [
    "#assignment 7.1\n",
    "arr = np.arange(1,10).reshape(3,3)\n",
    "print(arr)\n",
    "print(arr.reshape(1,9))\n",
    "print(arr.reshape(9,1))"
   ]
  },
  {
   "cell_type": "code",
   "execution_count": 159,
   "id": "62029e9a",
   "metadata": {},
   "outputs": [
    {
     "name": "stdout",
     "output_type": "stream",
     "text": [
      "[[7 8 6 4 4]\n",
      " [1 2 2 3 6]\n",
      " [5 6 6 6 2]\n",
      " [2 5 2 1 5]\n",
      " [6 9 2 5 1]]\n",
      "[7 8 6 4 4 1 2 2 3 6 5 6 6 6 2 2 5 2 1 5 6 9 2 5 1]\n",
      "[[7 8 6 4 4]\n",
      " [1 2 2 3 6]\n",
      " [5 6 6 6 2]\n",
      " [2 5 2 1 5]\n",
      " [6 9 2 5 1]]\n"
     ]
    }
   ],
   "source": [
    "#assignment 7.2\n",
    "arr = np.random.randint( 1, 10 , size = (5,5))\n",
    "print(arr)\n",
    "arr_new = arr.flatten()\n",
    "print(arr_new)\n",
    "arr_new = arr.reshape(5,5)\n",
    "print(arr_new)\n",
    "\n"
   ]
  },
  {
   "cell_type": "code",
   "execution_count": 168,
   "id": "f10bb9ae",
   "metadata": {},
   "outputs": [
    {
     "name": "stdout",
     "output_type": "stream",
     "text": [
      "[[7 1 5 2 1]\n",
      " [4 1 1 5 8]\n",
      " [9 5 7 5 5]\n",
      " [7 9 6 3 3]\n",
      " [9 3 6 2 5]]\n",
      "[7 1 9 5]\n"
     ]
    }
   ],
   "source": [
    "#assignment 8.1\n",
    "arr = np.random.randint( 1, 10 , size = (5,5))\n",
    "print(arr)\n",
    "cornor = arr[ [ 0 , 0 , -1 , -1] ,  [0, -1, 0, -1] ]\n",
    "print(cornor)\n"
   ]
  },
  {
   "cell_type": "code",
   "execution_count": 172,
   "id": "7df3faef",
   "metadata": {},
   "outputs": [
    {
     "name": "stdout",
     "output_type": "stream",
     "text": [
      "[[ 8 16  1 12]\n",
      " [14  0 12  0]\n",
      " [14  3  0  6]\n",
      " [15  3 14  5]]\n",
      "[[ 8 10  1 10]\n",
      " [10  0 10  0]\n",
      " [10  3  0  6]\n",
      " [10  3 10  5]]\n"
     ]
    }
   ],
   "source": [
    "#assignment 8.2\n",
    "arr = np.random.randint( 20 , size = (4,4))\n",
    "print(arr)\n",
    "arr[ arr > 10 ] = 10\n",
    "print(arr)\n",
    "\n"
   ]
  },
  {
   "cell_type": "code",
   "execution_count": 176,
   "id": "241600fc",
   "metadata": {},
   "outputs": [
    {
     "name": "stdout",
     "output_type": "stream",
     "text": [
      "[('A', 25, 62.2) ('B', 15, 21.3) ('C', 80, 45.2)]\n",
      "[('B', 15, 21.3) ('A', 25, 62.2) ('C', 80, 45.2)]\n"
     ]
    }
   ],
   "source": [
    "#assignment 9.1\n",
    "type = [('name', 'U10'), ('age', 'i4'), ('weight', 'f4')]\n",
    "data = np.array([('A', 25, 62.2), ('B', 15, 21.3), ('C', 80, 45.2)], dtype=type)\n",
    "print(data)\n",
    "print(np.sort(data,order= 'age'))\n",
    "\n"
   ]
  },
  {
   "cell_type": "code",
   "execution_count": 179,
   "id": "f0e4b0a9",
   "metadata": {},
   "outputs": [
    {
     "name": "stdout",
     "output_type": "stream",
     "text": [
      "[(1., 1.) (2., 2.) (3., 3.)]\n"
     ]
    },
    {
     "data": {
      "text/plain": [
       "array([[0.       , 1.4142135, 2.828427 ],\n",
       "       [1.4142135, 0.       , 1.4142135],\n",
       "       [2.828427 , 1.4142135, 0.       ]], dtype=float32)"
      ]
     },
     "execution_count": 179,
     "metadata": {},
     "output_type": "execute_result"
    }
   ],
   "source": [
    "#assignment 9.2\n",
    "import math \n",
    "type = [ ('x','f4') , ('y' , 'f4')]\n",
    "data = np.array([(1,1) , (2,2) , (3,3) ] , dtype=type)\n",
    "print(data)\n",
    "\n",
    "np.sqrt((data['x'][:, np.newaxis] - data['x'])**2 + (data['y'][:, np.newaxis] - data['y'])**2)"
   ]
  },
  {
   "cell_type": "code",
   "execution_count": null,
   "id": "d10d0ff2",
   "metadata": {},
   "outputs": [
    {
     "name": "stdout",
     "output_type": "stream",
     "text": [
      "[[18  4  8 19]\n",
      " [12  4 10  2]\n",
      " [13 18 16  1]\n",
      " [ 4  5 10 13]]\n",
      "[[-- 4 8 --]\n",
      " [-- 4 10 2]\n",
      " [-- -- -- 1]\n",
      " [4 5 10 --]]\n"
     ]
    }
   ],
   "source": [
    "import numpy.ma as ma\n",
    "#assignment 10.1\n",
    "arr = np.random.randint(1, 20, size=(4, 4))\n",
    "print(arr)\n",
    "print(ma.masked_greater(arr , 10))\n"
   ]
  },
  {
   "cell_type": "code",
   "execution_count": 185,
   "id": "081c641b",
   "metadata": {},
   "outputs": [
    {
     "name": "stdout",
     "output_type": "stream",
     "text": [
      "[[ 9 10 10]\n",
      " [15 12  1]\n",
      " [10 12  7]]\n",
      "[[-- 10 10]\n",
      " [15 -- 1]\n",
      " [10 12 --]]\n",
      "[[ 9 10 10]\n",
      " [15  9  1]\n",
      " [10 12  9]]\n"
     ]
    }
   ],
   "source": [
    "#assignment 10.2\n",
    "arr = np.random.randint(1, 20, size=(3, 3))\n",
    "print(arr)\n",
    "arr_mask = ma.masked_array(arr , np.eye(3))\n",
    "print(arr_mask)\n",
    "\n",
    "mean_mask = np.mean(arr_mask)\n",
    "print(arr_mask.filled(mean_mask))"
   ]
  }
 ],
 "metadata": {
  "kernelspec": {
   "display_name": "Python 3",
   "language": "python",
   "name": "python3"
  },
  "language_info": {
   "codemirror_mode": {
    "name": "ipython",
    "version": 3
   },
   "file_extension": ".py",
   "mimetype": "text/x-python",
   "name": "python",
   "nbconvert_exporter": "python",
   "pygments_lexer": "ipython3",
   "version": "3.13.0"
  }
 },
 "nbformat": 4,
 "nbformat_minor": 5
}
